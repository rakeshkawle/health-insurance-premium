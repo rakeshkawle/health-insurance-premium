{
 "cells": [
  {
   "cell_type": "code",
   "execution_count": 49,
   "id": "a61e5604",
   "metadata": {},
   "outputs": [],
   "source": [
    "import pandas as pd\n",
    "import numpy as np"
   ]
  },
  {
   "cell_type": "code",
   "execution_count": 50,
   "id": "593bc25f",
   "metadata": {},
   "outputs": [],
   "source": [
    "df=pd.read_csv(\"data/insurance.csv\")"
   ]
  },
  {
   "cell_type": "code",
   "execution_count": 51,
   "id": "2b94adc2",
   "metadata": {},
   "outputs": [
    {
     "data": {
      "text/html": [
       "<div>\n",
       "<style scoped>\n",
       "    .dataframe tbody tr th:only-of-type {\n",
       "        vertical-align: middle;\n",
       "    }\n",
       "\n",
       "    .dataframe tbody tr th {\n",
       "        vertical-align: top;\n",
       "    }\n",
       "\n",
       "    .dataframe thead th {\n",
       "        text-align: right;\n",
       "    }\n",
       "</style>\n",
       "<table border=\"1\" class=\"dataframe\">\n",
       "  <thead>\n",
       "    <tr style=\"text-align: right;\">\n",
       "      <th></th>\n",
       "      <th>age</th>\n",
       "      <th>sex</th>\n",
       "      <th>bmi</th>\n",
       "      <th>children</th>\n",
       "      <th>smoker</th>\n",
       "      <th>region</th>\n",
       "      <th>expenses</th>\n",
       "    </tr>\n",
       "  </thead>\n",
       "  <tbody>\n",
       "    <tr>\n",
       "      <th>0</th>\n",
       "      <td>19</td>\n",
       "      <td>female</td>\n",
       "      <td>27.9</td>\n",
       "      <td>0</td>\n",
       "      <td>yes</td>\n",
       "      <td>southwest</td>\n",
       "      <td>16884.92</td>\n",
       "    </tr>\n",
       "    <tr>\n",
       "      <th>1</th>\n",
       "      <td>18</td>\n",
       "      <td>male</td>\n",
       "      <td>33.8</td>\n",
       "      <td>1</td>\n",
       "      <td>no</td>\n",
       "      <td>southeast</td>\n",
       "      <td>1725.55</td>\n",
       "    </tr>\n",
       "    <tr>\n",
       "      <th>2</th>\n",
       "      <td>28</td>\n",
       "      <td>male</td>\n",
       "      <td>33.0</td>\n",
       "      <td>3</td>\n",
       "      <td>no</td>\n",
       "      <td>southeast</td>\n",
       "      <td>4449.46</td>\n",
       "    </tr>\n",
       "    <tr>\n",
       "      <th>3</th>\n",
       "      <td>33</td>\n",
       "      <td>male</td>\n",
       "      <td>22.7</td>\n",
       "      <td>0</td>\n",
       "      <td>no</td>\n",
       "      <td>northwest</td>\n",
       "      <td>21984.47</td>\n",
       "    </tr>\n",
       "    <tr>\n",
       "      <th>4</th>\n",
       "      <td>32</td>\n",
       "      <td>male</td>\n",
       "      <td>28.9</td>\n",
       "      <td>0</td>\n",
       "      <td>no</td>\n",
       "      <td>northwest</td>\n",
       "      <td>3866.86</td>\n",
       "    </tr>\n",
       "  </tbody>\n",
       "</table>\n",
       "</div>"
      ],
      "text/plain": [
       "   age     sex   bmi  children smoker     region  expenses\n",
       "0   19  female  27.9         0    yes  southwest  16884.92\n",
       "1   18    male  33.8         1     no  southeast   1725.55\n",
       "2   28    male  33.0         3     no  southeast   4449.46\n",
       "3   33    male  22.7         0     no  northwest  21984.47\n",
       "4   32    male  28.9         0     no  northwest   3866.86"
      ]
     },
     "execution_count": 51,
     "metadata": {},
     "output_type": "execute_result"
    }
   ],
   "source": [
    "df.head()"
   ]
  },
  {
   "cell_type": "code",
   "execution_count": 52,
   "id": "6756acba",
   "metadata": {},
   "outputs": [
    {
     "name": "stdout",
     "output_type": "stream",
     "text": [
      "<class 'pandas.core.frame.DataFrame'>\n",
      "RangeIndex: 1338 entries, 0 to 1337\n",
      "Data columns (total 7 columns):\n",
      " #   Column    Non-Null Count  Dtype  \n",
      "---  ------    --------------  -----  \n",
      " 0   age       1338 non-null   int64  \n",
      " 1   sex       1338 non-null   object \n",
      " 2   bmi       1338 non-null   float64\n",
      " 3   children  1338 non-null   int64  \n",
      " 4   smoker    1338 non-null   object \n",
      " 5   region    1338 non-null   object \n",
      " 6   expenses  1338 non-null   float64\n",
      "dtypes: float64(2), int64(2), object(3)\n",
      "memory usage: 73.3+ KB\n"
     ]
    }
   ],
   "source": [
    "df.info()"
   ]
  },
  {
   "cell_type": "code",
   "execution_count": 53,
   "id": "b55ebaf4",
   "metadata": {},
   "outputs": [
    {
     "data": {
      "text/html": [
       "<div>\n",
       "<style scoped>\n",
       "    .dataframe tbody tr th:only-of-type {\n",
       "        vertical-align: middle;\n",
       "    }\n",
       "\n",
       "    .dataframe tbody tr th {\n",
       "        vertical-align: top;\n",
       "    }\n",
       "\n",
       "    .dataframe thead th {\n",
       "        text-align: right;\n",
       "    }\n",
       "</style>\n",
       "<table border=\"1\" class=\"dataframe\">\n",
       "  <thead>\n",
       "    <tr style=\"text-align: right;\">\n",
       "      <th></th>\n",
       "      <th>age</th>\n",
       "      <th>sex</th>\n",
       "      <th>bmi</th>\n",
       "      <th>children</th>\n",
       "      <th>smoker</th>\n",
       "      <th>region</th>\n",
       "      <th>expenses</th>\n",
       "    </tr>\n",
       "  </thead>\n",
       "  <tbody>\n",
       "    <tr>\n",
       "      <th>0</th>\n",
       "      <td>19</td>\n",
       "      <td>female</td>\n",
       "      <td>27.9</td>\n",
       "      <td>0</td>\n",
       "      <td>yes</td>\n",
       "      <td>southwest</td>\n",
       "      <td>16884.92</td>\n",
       "    </tr>\n",
       "  </tbody>\n",
       "</table>\n",
       "</div>"
      ],
      "text/plain": [
       "   age     sex   bmi  children smoker     region  expenses\n",
       "0   19  female  27.9         0    yes  southwest  16884.92"
      ]
     },
     "execution_count": 53,
     "metadata": {},
     "output_type": "execute_result"
    }
   ],
   "source": [
    "df.head(1) "
   ]
  },
  {
   "cell_type": "code",
   "execution_count": 54,
   "id": "d8b26574",
   "metadata": {},
   "outputs": [],
   "source": [
    "X=df.drop('expenses',axis=1)"
   ]
  },
  {
   "cell_type": "code",
   "execution_count": 55,
   "id": "4ffa7b3c",
   "metadata": {},
   "outputs": [],
   "source": [
    "y=df['expenses']"
   ]
  },
  {
   "cell_type": "code",
   "execution_count": 56,
   "id": "8ebfab1a",
   "metadata": {},
   "outputs": [],
   "source": [
    "# categorical_features_col=X.select_dtypes(object).columns\n",
    "# numerical_features_col=X.select_dtypes(exclude=object).columns"
   ]
  },
  {
   "cell_type": "code",
   "execution_count": 57,
   "id": "4b14b0d1",
   "metadata": {},
   "outputs": [],
   "source": [
    "# categorical_features_col"
   ]
  },
  {
   "cell_type": "code",
   "execution_count": 58,
   "id": "14c5f42c",
   "metadata": {},
   "outputs": [],
   "source": [
    "# numerical_features_col"
   ]
  },
  {
   "cell_type": "code",
   "execution_count": 59,
   "id": "7d32678b",
   "metadata": {},
   "outputs": [],
   "source": [
    "# df[categorical_features_col[0]].value_counts().index.to_list()"
   ]
  },
  {
   "cell_type": "code",
   "execution_count": 60,
   "id": "a404b5ac",
   "metadata": {},
   "outputs": [],
   "source": [
    "# df[categorical_features_col[1]].value_counts().index.to_list()"
   ]
  },
  {
   "cell_type": "code",
   "execution_count": 61,
   "id": "76fdd77d",
   "metadata": {},
   "outputs": [],
   "source": [
    "# df[categorical_features_col[2]].value_counts().index.to_list()"
   ]
  },
  {
   "cell_type": "code",
   "execution_count": 62,
   "id": "4a11f701",
   "metadata": {},
   "outputs": [],
   "source": [
    "# sex_cat=['male', 'female']\n",
    "# smoke_cat=['no', 'yes']\n",
    "# # region_cat=['southeast', 'southwest', 'northwest', 'northeast']"
   ]
  },
  {
   "cell_type": "code",
   "execution_count": 63,
   "id": "e664b7ee",
   "metadata": {},
   "outputs": [],
   "source": [
    "from sklearn.preprocessing import StandardScaler\n",
    "from sklearn.preprocessing import OneHotEncoder\n",
    "\n",
    "from sklearn.pipeline import Pipeline\n",
    "from sklearn.compose import ColumnTransformer\n",
    "from sklearn.model_selection import train_test_split"
   ]
  },
  {
   "cell_type": "code",
   "execution_count": 64,
   "id": "23e52758",
   "metadata": {},
   "outputs": [],
   "source": [
    "X_train,X_test,y_train,y_test = train_test_split(X,y,test_size=42,random_state=42)"
   ]
  },
  {
   "cell_type": "code",
   "execution_count": 65,
   "id": "2b2bce1b",
   "metadata": {
    "scrolled": true
   },
   "outputs": [
    {
     "data": {
      "text/plain": [
       "(1296, 6)"
      ]
     },
     "execution_count": 65,
     "metadata": {},
     "output_type": "execute_result"
    }
   ],
   "source": [
    "X_train.shape"
   ]
  },
  {
   "cell_type": "code",
   "execution_count": 66,
   "id": "86b785cd",
   "metadata": {},
   "outputs": [
    {
     "data": {
      "text/plain": [
       "(42, 6)"
      ]
     },
     "execution_count": 66,
     "metadata": {},
     "output_type": "execute_result"
    }
   ],
   "source": [
    "X_test.shape"
   ]
  },
  {
   "cell_type": "code",
   "execution_count": 67,
   "id": "fc97272b",
   "metadata": {},
   "outputs": [
    {
     "data": {
      "text/plain": [
       "(1296,)"
      ]
     },
     "execution_count": 67,
     "metadata": {},
     "output_type": "execute_result"
    }
   ],
   "source": [
    "y_train.shape"
   ]
  },
  {
   "cell_type": "code",
   "execution_count": 68,
   "id": "4082e501",
   "metadata": {},
   "outputs": [
    {
     "data": {
      "text/plain": [
       "(42,)"
      ]
     },
     "execution_count": 68,
     "metadata": {},
     "output_type": "execute_result"
    }
   ],
   "source": [
    "y_test.shape"
   ]
  },
  {
   "cell_type": "code",
   "execution_count": 69,
   "id": "f3f565c4",
   "metadata": {},
   "outputs": [],
   "source": [
    "# one hot encoding\n",
    "one_hot_tf=ColumnTransformer([\n",
    "    ('ohe_sex',OneHotEncoder(sparse=False,handle_unknown='ignore',drop='first'),[1,4,5])\n",
    "],remainder='passthrough')"
   ]
  },
  {
   "cell_type": "code",
   "execution_count": 70,
   "id": "40c72c2f",
   "metadata": {},
   "outputs": [],
   "source": [
    "scale_tf=ColumnTransformer([\n",
    "    ('scale',StandardScaler(),slice(0,7)) # sex =1,region =3, smo =1 =4  and other =3 total =7 \n",
    "])"
   ]
  },
  {
   "cell_type": "code",
   "execution_count": 71,
   "id": "639d80f7",
   "metadata": {},
   "outputs": [],
   "source": [
    "from sklearn.ensemble import RandomForestRegressor,GradientBoostingRegressor\n",
    "from sklearn.linear_model import LinearRegression,ElasticNet,Lasso,Ridge\n",
    "from sklearn.tree import DecisionTreeRegressor\n",
    "\n",
    "from sklearn.metrics import r2_score,mean_absolute_error,mean_squared_error\n"
   ]
  },
  {
   "cell_type": "code",
   "execution_count": 72,
   "id": "4dcb4328",
   "metadata": {},
   "outputs": [
    {
     "name": "stderr",
     "output_type": "stream",
     "text": [
      "d:\\github\\HealthInsurancePremiumPrediction\\venv\\lib\\site-packages\\sklearn\\preprocessing\\_encoders.py:972: FutureWarning: `sparse` was renamed to `sparse_output` in version 1.2 and will be removed in 1.4. `sparse_output` is ignored unless you leave `sparse` to its default value.\n",
      "  warnings.warn(\n",
      "d:\\github\\HealthInsurancePremiumPrediction\\venv\\lib\\site-packages\\sklearn\\preprocessing\\_encoders.py:972: FutureWarning: `sparse` was renamed to `sparse_output` in version 1.2 and will be removed in 1.4. `sparse_output` is ignored unless you leave `sparse` to its default value.\n",
      "  warnings.warn(\n",
      "d:\\github\\HealthInsurancePremiumPrediction\\venv\\lib\\site-packages\\sklearn\\preprocessing\\_encoders.py:972: FutureWarning: `sparse` was renamed to `sparse_output` in version 1.2 and will be removed in 1.4. `sparse_output` is ignored unless you leave `sparse` to its default value.\n",
      "  warnings.warn(\n",
      "d:\\github\\HealthInsurancePremiumPrediction\\venv\\lib\\site-packages\\sklearn\\preprocessing\\_encoders.py:972: FutureWarning: `sparse` was renamed to `sparse_output` in version 1.2 and will be removed in 1.4. `sparse_output` is ignored unless you leave `sparse` to its default value.\n",
      "  warnings.warn(\n",
      "d:\\github\\HealthInsurancePremiumPrediction\\venv\\lib\\site-packages\\sklearn\\preprocessing\\_encoders.py:972: FutureWarning: `sparse` was renamed to `sparse_output` in version 1.2 and will be removed in 1.4. `sparse_output` is ignored unless you leave `sparse` to its default value.\n",
      "  warnings.warn(\n",
      "d:\\github\\HealthInsurancePremiumPrediction\\venv\\lib\\site-packages\\sklearn\\preprocessing\\_encoders.py:972: FutureWarning: `sparse` was renamed to `sparse_output` in version 1.2 and will be removed in 1.4. `sparse_output` is ignored unless you leave `sparse` to its default value.\n",
      "  warnings.warn(\n"
     ]
    },
    {
     "name": "stdout",
     "output_type": "stream",
     "text": [
      "Model: lr\n",
      "R2 Score: 0.8462324844107159\n",
      "Mean Squared Error: 27394080.99886388\n",
      "Mean Absolute Error: 3998.386884543999\n",
      "----------------------\n",
      "Model: rgd\n",
      "R2 Score: 0.8462332372898097\n",
      "Mean Squared Error: 27393946.871504158\n",
      "Mean Absolute Error: 3999.0974530236685\n",
      "----------------------\n",
      "Model: lasso\n",
      "R2 Score: 0.8462568262580923\n",
      "Mean Squared Error: 27389744.435733914\n",
      "Mean Absolute Error: 3998.365876691146\n",
      "----------------------\n",
      "Model: en\n",
      "R2 Score: 0.7538916982181652\n",
      "Mean Squared Error: 43844831.12487939\n",
      "Mean Absolute Error: 4842.480951107956\n",
      "----------------------\n",
      "Model: dt\n",
      "R2 Score: 0.9035779254035585\n",
      "Mean Squared Error: 17177842.221426193\n",
      "Mean Absolute Error: 1784.5469047619044\n",
      "----------------------\n",
      "Model: RandomForest\n",
      "R2 Score: 0.9461817705914625\n",
      "Mean Squared Error: 9587856.90191419\n",
      "Mean Absolute Error: 1898.0473386507936\n",
      "----------------------\n",
      "Model: GradientBoosting\n",
      "R2 Score: 0.9450491044713167\n",
      "Mean Squared Error: 9789644.303635746\n",
      "Mean Absolute Error: 1908.4276878950052\n",
      "----------------------\n"
     ]
    },
    {
     "name": "stderr",
     "output_type": "stream",
     "text": [
      "d:\\github\\HealthInsurancePremiumPrediction\\venv\\lib\\site-packages\\sklearn\\preprocessing\\_encoders.py:972: FutureWarning: `sparse` was renamed to `sparse_output` in version 1.2 and will be removed in 1.4. `sparse_output` is ignored unless you leave `sparse` to its default value.\n",
      "  warnings.warn(\n"
     ]
    }
   ],
   "source": [
    "models = [\n",
    "    ('lr',LinearRegression()),\n",
    "    ('rgd',Ridge()),\n",
    "    ('lasso',Lasso()),\n",
    "    ('en',ElasticNet()),\n",
    "    ('dt',DecisionTreeRegressor()),\n",
    "    ('RandomForest', RandomForestRegressor()),\n",
    "    ('GradientBoosting', GradientBoostingRegressor())\n",
    "    # Add more models if desired\n",
    "]\n",
    "\n",
    "results = {}  # A dictionary to store the evaluation results\n",
    "\n",
    "for model_name, model in models:\n",
    "    # create pipeline\n",
    "    pipe = Pipeline([\n",
    "        ('ohe', one_hot_tf),\n",
    "        ('scale_tf', scale_tf),\n",
    "        ('model_tf', model)\n",
    "    ])\n",
    "    \n",
    "    # Train the model using the pipeline\n",
    "    pipe.fit(X_train, y_train)\n",
    "    \n",
    "    # Evaluate the model on the validation set\n",
    "    y_pred = pipe.predict(X_test)\n",
    "    r2 = r2_score(y_test, y_pred)\n",
    "    mse = mean_squared_error(y_test, y_pred)\n",
    "    mae = mean_absolute_error(y_test, y_pred)\n",
    "    \n",
    "    # Store the evaluation results in the dictionary\n",
    "    results[model_name] = {'R2': r2, 'MSE': mse, 'MAE': mae}\n",
    "\n",
    "# Now, display the evaluation results for all the models\n",
    "for model_name, metrics in results.items():\n",
    "    print(f\"Model: {model_name}\")\n",
    "    print(f\"R2 Score: {metrics['R2']}\")\n",
    "    print(f\"Mean Squared Error: {metrics['MSE']}\")\n",
    "    print(f\"Mean Absolute Error: {metrics['MAE']}\")\n",
    "    print(\"----------------------\")"
   ]
  },
  {
   "cell_type": "code",
   "execution_count": 73,
   "id": "f8be22bf",
   "metadata": {},
   "outputs": [],
   "source": [
    "# model_tf=RandomForestRegressor()"
   ]
  },
  {
   "cell_type": "code",
   "execution_count": 74,
   "id": "62984b22",
   "metadata": {},
   "outputs": [],
   "source": [
    "# # create pipeline\n",
    "# pipe = Pipeline([\n",
    "#     ('ohe',one_hot_tf),\n",
    "#     ('scale_tf',scale_tf),\n",
    "#     ('model_tf',model_tf)\n",
    "# ])"
   ]
  },
  {
   "cell_type": "code",
   "execution_count": 75,
   "id": "af387cb7",
   "metadata": {
    "scrolled": true
   },
   "outputs": [],
   "source": [
    "# pipe.fit(X_train,y_train)"
   ]
  },
  {
   "cell_type": "code",
   "execution_count": 76,
   "id": "c6f0b8e1",
   "metadata": {},
   "outputs": [],
   "source": [
    "# y_pred = pipe.predict(X_test)\n",
    "# y_pred"
   ]
  },
  {
   "cell_type": "code",
   "execution_count": 77,
   "id": "c9543152",
   "metadata": {},
   "outputs": [],
   "source": [
    "# pipe.named_steps"
   ]
  },
  {
   "cell_type": "code",
   "execution_count": 78,
   "id": "9f9aabdd",
   "metadata": {},
   "outputs": [],
   "source": [
    "# pipe.named_steps['ohe'].transformers_"
   ]
  },
  {
   "cell_type": "code",
   "execution_count": null,
   "id": "0814497c",
   "metadata": {},
   "outputs": [],
   "source": []
  },
  {
   "cell_type": "code",
   "execution_count": null,
   "id": "ca2d2005",
   "metadata": {},
   "outputs": [],
   "source": []
  }
 ],
 "metadata": {
  "kernelspec": {
   "display_name": "Python 3 (ipykernel)",
   "language": "python",
   "name": "python3"
  },
  "language_info": {
   "codemirror_mode": {
    "name": "ipython",
    "version": 3
   },
   "file_extension": ".py",
   "mimetype": "text/x-python",
   "name": "python",
   "nbconvert_exporter": "python",
   "pygments_lexer": "ipython3",
   "version": "3.8.0"
  }
 },
 "nbformat": 4,
 "nbformat_minor": 5
}
